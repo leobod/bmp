{
 "cells": [
  {
   "cell_type": "markdown",
   "metadata": {},
   "source": [
    "# h1导入相关的包，并处理数据"
   ]
  },
  {
   "cell_type": "code",
   "execution_count": 1,
   "metadata": {},
   "outputs": [],
   "source": [
    "import pandas as pd\n",
    "import numpy as np"
   ]
  },
  {
   "cell_type": "code",
   "execution_count": 2,
   "metadata": {},
   "outputs": [],
   "source": [
    "df = pd.read_csv('data2-7-27.csv')"
   ]
  },
  {
   "cell_type": "code",
   "execution_count": 3,
   "metadata": {},
   "outputs": [],
   "source": [
    "col = [\"bmi\", \"w/h\", \"fet\", \"tunica thickness\", \"fom\", \"PI\", \"RI\", \"S/D\", \"ue\", \"ratio\", \"E2\", \"P\"]\n",
    "X_all = df[col]\n",
    "Y_all = df[\"pregnancy\"]"
   ]
  },
  {
   "cell_type": "markdown",
   "metadata": {},
   "source": [
    "## h2验证特征有无空值等因素"
   ]
  },
  {
   "cell_type": "code",
   "execution_count": 4,
   "metadata": {},
   "outputs": [
    {
     "data": {
      "text/plain": [
       "bmi                 False\n",
       "w/h                 False\n",
       "fet                 False\n",
       "tunica thickness    False\n",
       "fom                 False\n",
       "PI                  False\n",
       "RI                  False\n",
       "S/D                 False\n",
       "ue                  False\n",
       "ratio               False\n",
       "E2                   True\n",
       "P                    True\n",
       "dtype: bool"
      ]
     },
     "execution_count": 4,
     "metadata": {},
     "output_type": "execute_result"
    }
   ],
   "source": [
    "np.isnan(X_all).any()"
   ]
  },
  {
   "cell_type": "markdown",
   "metadata": {},
   "source": [
    "## h2数据分组"
   ]
  },
  {
   "cell_type": "code",
   "execution_count": 5,
   "metadata": {},
   "outputs": [],
   "source": [
    "X_np_number, X_np_all, X_np_other, Y_np_all = np.split(df, [1,11,13], axis=1)"
   ]
  },
  {
   "cell_type": "code",
   "execution_count": 6,
   "metadata": {},
   "outputs": [
    {
     "data": {
      "text/html": [
       "<div>\n",
       "<style scoped>\n",
       "    .dataframe tbody tr th:only-of-type {\n",
       "        vertical-align: middle;\n",
       "    }\n",
       "\n",
       "    .dataframe tbody tr th {\n",
       "        vertical-align: top;\n",
       "    }\n",
       "\n",
       "    .dataframe thead th {\n",
       "        text-align: right;\n",
       "    }\n",
       "</style>\n",
       "<table border=\"1\" class=\"dataframe\">\n",
       "  <thead>\n",
       "    <tr style=\"text-align: right;\">\n",
       "      <th></th>\n",
       "      <th>number</th>\n",
       "    </tr>\n",
       "  </thead>\n",
       "  <tbody>\n",
       "    <tr>\n",
       "      <th>0</th>\n",
       "      <td>1.0</td>\n",
       "    </tr>\n",
       "    <tr>\n",
       "      <th>1</th>\n",
       "      <td>2.0</td>\n",
       "    </tr>\n",
       "    <tr>\n",
       "      <th>2</th>\n",
       "      <td>3.0</td>\n",
       "    </tr>\n",
       "    <tr>\n",
       "      <th>3</th>\n",
       "      <td>4.0</td>\n",
       "    </tr>\n",
       "    <tr>\n",
       "      <th>4</th>\n",
       "      <td>5.0</td>\n",
       "    </tr>\n",
       "  </tbody>\n",
       "</table>\n",
       "</div>"
      ],
      "text/plain": [
       "   number\n",
       "0     1.0\n",
       "1     2.0\n",
       "2     3.0\n",
       "3     4.0\n",
       "4     5.0"
      ]
     },
     "execution_count": 6,
     "metadata": {},
     "output_type": "execute_result"
    }
   ],
   "source": [
    "X_np_number.head()"
   ]
  },
  {
   "cell_type": "code",
   "execution_count": 7,
   "metadata": {},
   "outputs": [
    {
     "data": {
      "text/html": [
       "<div>\n",
       "<style scoped>\n",
       "    .dataframe tbody tr th:only-of-type {\n",
       "        vertical-align: middle;\n",
       "    }\n",
       "\n",
       "    .dataframe tbody tr th {\n",
       "        vertical-align: top;\n",
       "    }\n",
       "\n",
       "    .dataframe thead th {\n",
       "        text-align: right;\n",
       "    }\n",
       "</style>\n",
       "<table border=\"1\" class=\"dataframe\">\n",
       "  <thead>\n",
       "    <tr style=\"text-align: right;\">\n",
       "      <th></th>\n",
       "      <th>bmi</th>\n",
       "      <th>w/h</th>\n",
       "      <th>fet</th>\n",
       "      <th>tunica thickness</th>\n",
       "      <th>fom</th>\n",
       "      <th>PI</th>\n",
       "      <th>RI</th>\n",
       "      <th>S/D</th>\n",
       "      <th>ue</th>\n",
       "      <th>ratio</th>\n",
       "    </tr>\n",
       "  </thead>\n",
       "  <tbody>\n",
       "    <tr>\n",
       "      <th>0</th>\n",
       "      <td>20.3</td>\n",
       "      <td>0.78</td>\n",
       "      <td>0.0</td>\n",
       "      <td>12.0</td>\n",
       "      <td>1.0</td>\n",
       "      <td>1.44</td>\n",
       "      <td>0.81</td>\n",
       "      <td>1.7</td>\n",
       "      <td>3.0</td>\n",
       "      <td>0.6</td>\n",
       "    </tr>\n",
       "    <tr>\n",
       "      <th>1</th>\n",
       "      <td>20.8</td>\n",
       "      <td>0.93</td>\n",
       "      <td>0.0</td>\n",
       "      <td>9.0</td>\n",
       "      <td>2.0</td>\n",
       "      <td>0.63</td>\n",
       "      <td>0.46</td>\n",
       "      <td>1.6</td>\n",
       "      <td>2.0</td>\n",
       "      <td>0.6</td>\n",
       "    </tr>\n",
       "    <tr>\n",
       "      <th>2</th>\n",
       "      <td>25.0</td>\n",
       "      <td>0.82</td>\n",
       "      <td>0.0</td>\n",
       "      <td>10.0</td>\n",
       "      <td>2.0</td>\n",
       "      <td>0.92</td>\n",
       "      <td>0.56</td>\n",
       "      <td>1.0</td>\n",
       "      <td>3.0</td>\n",
       "      <td>1.2</td>\n",
       "    </tr>\n",
       "    <tr>\n",
       "      <th>3</th>\n",
       "      <td>22.4</td>\n",
       "      <td>0.76</td>\n",
       "      <td>0.0</td>\n",
       "      <td>11.8</td>\n",
       "      <td>2.0</td>\n",
       "      <td>0.93</td>\n",
       "      <td>0.54</td>\n",
       "      <td>4.2</td>\n",
       "      <td>4.0</td>\n",
       "      <td>1.8</td>\n",
       "    </tr>\n",
       "    <tr>\n",
       "      <th>4</th>\n",
       "      <td>22.9</td>\n",
       "      <td>0.79</td>\n",
       "      <td>0.0</td>\n",
       "      <td>8.3</td>\n",
       "      <td>2.0</td>\n",
       "      <td>0.77</td>\n",
       "      <td>0.62</td>\n",
       "      <td>2.7</td>\n",
       "      <td>2.0</td>\n",
       "      <td>0.6</td>\n",
       "    </tr>\n",
       "  </tbody>\n",
       "</table>\n",
       "</div>"
      ],
      "text/plain": [
       "    bmi   w/h  fet  tunica thickness  fom    PI    RI  S/D   ue  ratio\n",
       "0  20.3  0.78  0.0              12.0  1.0  1.44  0.81  1.7  3.0    0.6\n",
       "1  20.8  0.93  0.0               9.0  2.0  0.63  0.46  1.6  2.0    0.6\n",
       "2  25.0  0.82  0.0              10.0  2.0  0.92  0.56  1.0  3.0    1.2\n",
       "3  22.4  0.76  0.0              11.8  2.0  0.93  0.54  4.2  4.0    1.8\n",
       "4  22.9  0.79  0.0               8.3  2.0  0.77  0.62  2.7  2.0    0.6"
      ]
     },
     "execution_count": 7,
     "metadata": {},
     "output_type": "execute_result"
    }
   ],
   "source": [
    "X_np_all.head()"
   ]
  },
  {
   "cell_type": "code",
   "execution_count": 8,
   "metadata": {},
   "outputs": [
    {
     "data": {
      "text/html": [
       "<div>\n",
       "<style scoped>\n",
       "    .dataframe tbody tr th:only-of-type {\n",
       "        vertical-align: middle;\n",
       "    }\n",
       "\n",
       "    .dataframe tbody tr th {\n",
       "        vertical-align: top;\n",
       "    }\n",
       "\n",
       "    .dataframe thead th {\n",
       "        text-align: right;\n",
       "    }\n",
       "</style>\n",
       "<table border=\"1\" class=\"dataframe\">\n",
       "  <thead>\n",
       "    <tr style=\"text-align: right;\">\n",
       "      <th></th>\n",
       "      <th>pregnancy</th>\n",
       "    </tr>\n",
       "  </thead>\n",
       "  <tbody>\n",
       "    <tr>\n",
       "      <th>0</th>\n",
       "      <td>1.0</td>\n",
       "    </tr>\n",
       "    <tr>\n",
       "      <th>1</th>\n",
       "      <td>1.0</td>\n",
       "    </tr>\n",
       "    <tr>\n",
       "      <th>2</th>\n",
       "      <td>0.0</td>\n",
       "    </tr>\n",
       "    <tr>\n",
       "      <th>3</th>\n",
       "      <td>0.0</td>\n",
       "    </tr>\n",
       "    <tr>\n",
       "      <th>4</th>\n",
       "      <td>1.0</td>\n",
       "    </tr>\n",
       "  </tbody>\n",
       "</table>\n",
       "</div>"
      ],
      "text/plain": [
       "   pregnancy\n",
       "0        1.0\n",
       "1        1.0\n",
       "2        0.0\n",
       "3        0.0\n",
       "4        1.0"
      ]
     },
     "execution_count": 8,
     "metadata": {},
     "output_type": "execute_result"
    }
   ],
   "source": [
    "Y_np_all.head()"
   ]
  },
  {
   "cell_type": "markdown",
   "metadata": {},
   "source": [
    "## h2划分训练集与测试集"
   ]
  },
  {
   "cell_type": "code",
   "execution_count": 9,
   "metadata": {},
   "outputs": [],
   "source": [
    "from sklearn.model_selection import train_test_split"
   ]
  },
  {
   "cell_type": "code",
   "execution_count": 10,
   "metadata": {},
   "outputs": [],
   "source": [
    "X_np_train, X_np_test, Y_np_train, Y_np_test = train_test_split(X_np_all, Y_np_all, random_state=1, train_size=0.6)"
   ]
  },
  {
   "cell_type": "markdown",
   "metadata": {},
   "source": [
    " "
   ]
  },
  {
   "cell_type": "markdown",
   "metadata": {},
   "source": [
    "## h2尝试SVM模型"
   ]
  },
  {
   "cell_type": "code",
   "execution_count": 11,
   "metadata": {},
   "outputs": [],
   "source": [
    "from sklearn import svm\n",
    "from pandas import Series, DataFrame"
   ]
  },
  {
   "cell_type": "code",
   "execution_count": 12,
   "metadata": {},
   "outputs": [],
   "source": [
    "clf = svm.SVC(C=0.8, kernel='rbf', gamma=20, decision_function_shape='ovr')"
   ]
  },
  {
   "cell_type": "code",
   "execution_count": 13,
   "metadata": {},
   "outputs": [
    {
     "data": {
      "text/plain": [
       "SVC(C=0.8, cache_size=200, class_weight=None, coef0=0.0,\n",
       "    decision_function_shape='ovr', degree=3, gamma=20, kernel='rbf',\n",
       "    max_iter=-1, probability=False, random_state=None, shrinking=True,\n",
       "    tol=0.001, verbose=False)"
      ]
     },
     "execution_count": 13,
     "metadata": {},
     "output_type": "execute_result"
    }
   ],
   "source": [
    "clf.fit(X_np_train, Y_np_train.values.ravel())"
   ]
  },
  {
   "cell_type": "markdown",
   "metadata": {},
   "source": [
    "### h3训练集检测"
   ]
  },
  {
   "cell_type": "code",
   "execution_count": 14,
   "metadata": {},
   "outputs": [
    {
     "name": "stdout",
     "output_type": "stream",
     "text": [
      "训练集精度 : 1.0\n",
      "y_hat_1 : [1. 1. 0. 1. 0. 1. 0. 1. 1. 0. 0. 1. 0. 0. 1. 1. 1. 0. 1. 0. 0. 0. 0. 1.\n",
      " 1. 1. 0. 1. 0. 0. 0. 0. 0. 1. 1. 0. 0. 0. 1. 0. 0. 1. 1. 0. 0. 1. 1. 0.\n",
      " 0. 0. 1. 1. 1. 1. 1. 1.]\n"
     ]
    }
   ],
   "source": [
    "# print(clf.score(X_np_train, Y_np_train))  # 精度\n",
    "grade = clf.score(X_np_train, Y_np_train)\n",
    "y_hat = clf.predict(X_np_train)\n",
    "# show_accuracy(y_hat, Y_np_train, '训练集')\n",
    "print(\"训练集精度 : \"+str(grade))\n",
    "print(\"y_hat_1 : \"+ str(y_hat))"
   ]
  },
  {
   "cell_type": "markdown",
   "metadata": {},
   "source": [
    "### h3测试集检测"
   ]
  },
  {
   "cell_type": "code",
   "execution_count": 15,
   "metadata": {},
   "outputs": [
    {
     "name": "stdout",
     "output_type": "stream",
     "text": [
      "测试集精度 : 0.4473684210526316\n",
      "y_hat_1 : [0. 0. 0. 0. 1. 0. 0. 0. 0. 0. 0. 0. 0. 0. 0. 0. 0. 0. 0. 0. 1. 0. 0. 0.\n",
      " 1. 0. 0. 0. 0. 0. 0. 0. 0. 0. 0. 1. 0. 0.]\n"
     ]
    }
   ],
   "source": [
    "# print(clf.score(X_np_test, Y_np_test))\n",
    "grade = clf.score(X_np_test, Y_np_test)\n",
    "y_hat = clf.predict(X_np_test)\n",
    "# show_accuracy(y_hat, X_np_test, '测试集')\n",
    "print(\"测试集精度 : \"+str(grade))\n",
    "print(\"y_hat_1 : \"+ str(y_hat))"
   ]
  },
  {
   "cell_type": "markdown",
   "metadata": {},
   "source": [
    "### h3查看决策函数"
   ]
  },
  {
   "cell_type": "code",
   "execution_count": 16,
   "metadata": {},
   "outputs": [
    {
     "name": "stdout",
     "output_type": "stream",
     "text": [
      "decision_function:\n",
      " [ 0.79999995  0.8        -0.8         0.8        -0.8         0.8\n",
      " -0.8         0.8         0.8        -0.8        -0.8         0.8\n",
      " -0.8        -0.8         0.8         0.79999999  0.8        -0.8\n",
      "  0.8        -0.8        -0.8        -0.8        -0.8         0.8\n",
      "  0.8         0.8        -0.8         0.8        -0.79999995 -0.8\n",
      " -0.8        -0.8        -0.8         0.8         0.8        -0.8\n",
      " -0.8        -0.8         0.8        -0.8        -0.8         0.8\n",
      "  0.8        -0.8        -0.8         0.8         0.8        -0.8\n",
      " -0.8        -0.8         0.8         0.8         0.8         0.8\n",
      "  0.8         0.8       ]\n",
      "\n",
      "predict:\n",
      " [1. 1. 0. 1. 0. 1. 0. 1. 1. 0. 0. 1. 0. 0. 1. 1. 1. 0. 1. 0. 0. 0. 0. 1.\n",
      " 1. 1. 0. 1. 0. 0. 0. 0. 0. 1. 1. 0. 0. 0. 1. 0. 0. 1. 1. 0. 0. 1. 1. 0.\n",
      " 0. 0. 1. 1. 1. 1. 1. 1.]\n"
     ]
    }
   ],
   "source": [
    "print('decision_function:\\n', clf.decision_function(X_np_train))\n",
    "print('\\npredict:\\n', clf.predict(X_np_train))"
   ]
  },
  {
   "cell_type": "markdown",
   "metadata": {},
   "source": [
    " "
   ]
  },
  {
   "cell_type": "markdown",
   "metadata": {},
   "source": [
    "# 核的类别"
   ]
  },
  {
   "cell_type": "markdown",
   "metadata": {},
   "source": [
    " kernel ：核函数，默认是rbf，可以是\n",
    " \n",
    "     + linear    线性：u’v\n",
    "     + poly     多项式：(gamma*u’*v + coef0)^degree\n",
    "     + rbf      RBF函数：exp(-gamma|u-v|^2)\n",
    "     + sigmoid   sigmoid：tanh(gamma*u’*v + coef0)\n",
    "     + precomputed"
   ]
  },
  {
   "cell_type": "markdown",
   "metadata": {},
   "source": [
    "# 高斯核"
   ]
  },
  {
   "cell_type": "code",
   "execution_count": 17,
   "metadata": {},
   "outputs": [
    {
     "data": {
      "text/plain": [
       "SVC(C=0.5, cache_size=200, class_weight=None, coef0=0.0,\n",
       "    decision_function_shape='ovo', degree=3, gamma=140, kernel='rbf',\n",
       "    max_iter=-1, probability=False, random_state=None, shrinking=True,\n",
       "    tol=0.001, verbose=False)"
      ]
     },
     "execution_count": 17,
     "metadata": {},
     "output_type": "execute_result"
    }
   ],
   "source": [
    "clf_2 = svm.SVC(C=0.5, kernel='rbf', gamma=140, decision_function_shape='ovo')\n",
    "clf_2.fit(X_np_train, Y_np_train.values.ravel())"
   ]
  },
  {
   "cell_type": "code",
   "execution_count": 18,
   "metadata": {},
   "outputs": [
    {
     "name": "stdout",
     "output_type": "stream",
     "text": [
      "训练集精度 : 1.0\n",
      "y_hat_1 : [1. 1. 0. 1. 0. 1. 0. 1. 1. 0. 0. 1. 0. 0. 1. 1. 1. 0. 1. 0. 0. 0. 0. 1.\n",
      " 1. 1. 0. 1. 0. 0. 0. 0. 0. 1. 1. 0. 0. 0. 1. 0. 0. 1. 1. 0. 0. 1. 1. 0.\n",
      " 0. 0. 1. 1. 1. 1. 1. 1.]\n"
     ]
    }
   ],
   "source": [
    "grade = clf_2.score(X_np_train, Y_np_train)\n",
    "y_hat = clf_2.predict(X_np_train)\n",
    "\n",
    "print(\"训练集精度 : \"+str(grade))\n",
    "print(\"y_hat_1 : \"+ str(y_hat))"
   ]
  },
  {
   "cell_type": "code",
   "execution_count": 19,
   "metadata": {},
   "outputs": [
    {
     "name": "stdout",
     "output_type": "stream",
     "text": [
      "测试集精度 : 0.6578947368421053\n",
      "y_hat_1 : [0. 0. 1. 0. 1. 0. 0. 0. 0. 1. 0. 0. 1. 1. 1. 1. 1. 1. 1. 0. 1. 1. 0. 1.\n",
      " 1. 0. 1. 1. 0. 1. 1. 0. 0. 1. 1. 1. 1. 0.]\n"
     ]
    }
   ],
   "source": [
    "grade = clf_2.score(X_np_test, Y_np_test)\n",
    "y_hat = clf_2.predict(X_np_test)\n",
    "\n",
    "print(\"测试集精度 : \"+str(grade))\n",
    "print(\"y_hat_1 : \"+ str(y_hat))"
   ]
  },
  {
   "cell_type": "markdown",
   "metadata": {},
   "source": [
    " "
   ]
  },
  {
   "cell_type": "markdown",
   "metadata": {},
   "source": [
    " ## 高斯核部分结果\n",
    " \n",
    "| 惩罚参数C | 核函数 | dgamma | train_grade | test_grade |\n",
    "| :-------: | :----: | :----: | :---------: | :--------: |\n",
    "|   0.8   |   rdf |  300  | 1.0 | 0.5789473684210527  |\n",
    "|   0.8   |   rdf | 160  |  1.0 | 0.6052631578947368  |\n",
    "|   0.8   |   rdf | 120  |  1.0 | 0.6578947368421053  |\n",
    "|   0.8   |   rdf |  50  |  1.0 | 0.6052631578947368  |\n",
    "|   0.8   |   rdf |  20  |  1.0 | 0.4473684210526316  |\n",
    "|   ---   |      |    .|     |             .|\n",
    "|   0.5   |   rdf |  10  |  1.0 | 0.4210526315789473  |\n",
    "|   0.5   |   rdf |  50  |  1.0 | 0.6052631578947368  |\n",
    "|   0.5   |   rdf |  90  |  1.0 | 0.6315789473684210  |\n",
    "|   0.5   |   rdf |  120 |  1.0 | 0.6578947368421053  |\n",
    "|   0.5   |   rdf |  150 |  1.0 | 0.6315789473684210  |\n"
   ]
  },
  {
   "cell_type": "markdown",
   "metadata": {},
   "source": [
    " ## 高斯核目前最优\n",
    " \n",
    "| 惩罚参数C | 核函数 | dgamma | train_grade | test_grade |\n",
    "| :-------: | :----: | :----: | :---------: | :--------: |\n",
    "|   0.8   |   rdf | 120  |  1.0 | 0.6578947368421053  |\n",
    "|   0.5   |   rdf |  120 |  1.0 | 0.6578947368421053  |"
   ]
  },
  {
   "cell_type": "markdown",
   "metadata": {},
   "source": []
  },
  {
   "cell_type": "markdown",
   "metadata": {},
   "source": [
    "# 多项式核"
   ]
  },
  {
   "cell_type": "code",
   "execution_count": 20,
   "metadata": {},
   "outputs": [
    {
     "data": {
      "text/plain": [
       "SVC(C=0.5, cache_size=200, class_weight=None, coef0=0.0,\n",
       "    decision_function_shape='ovo', degree=1, gamma=90, kernel='poly',\n",
       "    max_iter=-1, probability=False, random_state=None, shrinking=True,\n",
       "    tol=0.001, verbose=False)"
      ]
     },
     "execution_count": 20,
     "metadata": {},
     "output_type": "execute_result"
    }
   ],
   "source": [
    "clf_3 = svm.SVC(C=0.5, kernel='poly', degree=1, gamma=90, decision_function_shape='ovo')\n",
    "clf_3.fit(X_np_train, Y_np_train.values.ravel())"
   ]
  },
  {
   "cell_type": "code",
   "execution_count": 21,
   "metadata": {},
   "outputs": [
    {
     "name": "stdout",
     "output_type": "stream",
     "text": [
      "训练集精度 : 0.7142857142857143\n",
      "y_hat_1 : [1. 1. 1. 0. 0. 1. 0. 1. 0. 0. 1. 0. 0. 1. 0. 1. 1. 0. 1. 0. 0. 0. 1. 1.\n",
      " 1. 1. 1. 0. 1. 0. 0. 0. 1. 1. 1. 0. 0. 0. 1. 0. 1. 0. 0. 0. 0. 1. 1. 1.\n",
      " 0. 0. 1. 1. 1. 1. 1. 1.]\n"
     ]
    }
   ],
   "source": [
    "grade = clf_3.score(X_np_train, Y_np_train)\n",
    "y_hat = clf_3.predict(X_np_train)\n",
    "\n",
    "print(\"训练集精度 : \"+str(grade))\n",
    "print(\"y_hat_1 : \"+ str(y_hat))"
   ]
  },
  {
   "cell_type": "code",
   "execution_count": 22,
   "metadata": {},
   "outputs": [
    {
     "name": "stdout",
     "output_type": "stream",
     "text": [
      "测试集精度 : 0.6842105263157895\n",
      "y_hat_1 : [0. 1. 1. 0. 1. 1. 0. 1. 1. 0. 0. 0. 1. 1. 1. 1. 1. 0. 0. 0. 1. 0. 0. 0.\n",
      " 1. 1. 1. 0. 1. 0. 1. 0. 0. 1. 1. 1. 0. 1.]\n"
     ]
    }
   ],
   "source": [
    "grade = clf_3.score(X_np_test, Y_np_test)\n",
    "y_hat = clf_3.predict(X_np_test)\n",
    "\n",
    "print(\"测试集精度 : \"+str(grade))\n",
    "print(\"y_hat_1 : \"+ str(y_hat))"
   ]
  },
  {
   "cell_type": "markdown",
   "metadata": {},
   "source": [
    " "
   ]
  },
  {
   "cell_type": "markdown",
   "metadata": {},
   "source": [
    "## 多项式核部分结果\n",
    "\n",
    "| 惩罚参数C | 核函数 | degree | dgamma | train_grade |    test_grade    |\n",
    "| :-------: | :----: | :----: | :----: | :---------: | :----------------: |\n",
    "|   0.8   |  poly  |   1   |   40 | 0.660714285 | 0.684210526315789  |\n",
    "|   0.8   |  poly  |   1   |   50 | 0.732142857 | 0.710526315789473  |\n",
    "|   0.8   |  poly  |   1   |   60 | 0.696428571 | 0.684210526315789  |\n",
    "|   0.8   |  poly  |   1   |  120  | 0.660714285 | 0.631578947368421  |\n",
    "|   0.8   |  poly  |   1   |  140  | 0.660714285 | 0.631578947368421  |\n",
    "|   0.8   |  poly  |   1   |  150  | 0.660714285 | 0.631578947368421  |\n",
    "|   ---   |      |      .|     |         |              |\n",
    "|   0.8   |  poly  |   2   |   40 | 0.875     | 0.605263157894736  |\n",
    "|   0.8   |  poly  |   2   |   50 | 0.785714285 | 0.473684210526315  |\n",
    "|   0.8   |  poly  |   2   |   60 | 0.75      | 0.631578947368421  |\n",
    "|   0.8   |  poly  |   2   |  120  | 0.75      | 0.631578947368421  |\n",
    "|   ---   |      |      .|     |         |              |\n",
    "|   0.8   |  poly  |   3   |   40 | 1.00      | 0.605263157894736  |\n",
    "|   0.8   |  poly  |   3   |   50 | 1.00      | 0.578947368421052  |\n",
    "|   0.8   |  poly  |   3   |   60 | 1.00      | 0.578947368421052  |\n",
    "|   0.8   |  poly  |   3   |   30 | 1.00      | 0.578947368421052  |\n",
    "|   ---   |      |      .|     |         |              |\n",
    "|   ---   |      |      .|     |         |              |\n",
    "|   0.5   |  poly  |   1   |   40 | 0.660714285 | 0.6578947368421053 |\n",
    "|   0.5   |  poly  |   1   |   50 | 0.678571428 | 0.6578947368421053 |\n",
    "|   0.5   |  poly  |   1   |   60 | 0.660714285 | 0.6842105263157895 |\n",
    "|   0.5   |  poly  |   1   |   70 | 0.714285714 | 0.7105263157894737 |\n",
    "|   0.5   |  poly  |   1   |   80 | 0.732142857 | 0.7105263157894737 |\n"
   ]
  },
  {
   "cell_type": "markdown",
   "metadata": {},
   "source": [
    "## 多项式目前最优\n",
    "\n",
    "| 惩罚参数C | 核函数 | degree | dgamma | train_grade |    test_grade    |\n",
    "| :-------: | :----: | :----: | :----: | :---------: | :----------------: |\n",
    "|   0.8   |  poly  |   1   |   40 | 0.660714285 | 0.684210526315789  |\n",
    "|   0.8   |  poly  |   1   |   50 | 0.732142857 | 0.710526315789473  |\n",
    "|   0.8   |  poly  |   1   |   60 | 0.696428571 | 0.684210526315789  |\n",
    "|   ---   |      |      .|     |         |              |\n",
    "|   ---   |      |      .|     |         |              |\n",
    "|   0.5   |  poly  |   1   |   60 | 0.660714285 | 0.6842105263157895 |\n",
    "|   0.5   |  poly  |   1   |   70 | 0.714285714 | 0.7105263157894737 |\n",
    "|   0.5   |  poly  |   1   |   80 | 0.732142857 | 0.7105263157894737 |"
   ]
  },
  {
   "cell_type": "markdown",
   "metadata": {},
   "source": []
  },
  {
   "cell_type": "markdown",
   "metadata": {},
   "source": []
  },
  {
   "cell_type": "markdown",
   "metadata": {},
   "source": []
  },
  {
   "cell_type": "markdown",
   "metadata": {},
   "source": [
    "## 趋势简易分析"
   ]
  },
  {
   "cell_type": "code",
   "execution_count": 23,
   "metadata": {},
   "outputs": [],
   "source": [
    "import matplotlib.pyplot as plt"
   ]
  },
  {
   "cell_type": "markdown",
   "metadata": {},
   "source": [
    "#### 定义精度求解函数"
   ]
  },
  {
   "cell_type": "code",
   "execution_count": 24,
   "metadata": {},
   "outputs": [],
   "source": [
    "def getRBFGrade(c:list, gamma:int, X_np_train, Y_np_train, X_np_test, Y_np_test):\n",
    "    grades = []\n",
    "    for one in c:\n",
    "        clf_tmp = svm.SVC(C=one, kernel='rbf', gamma=gamma, decision_function_shape='ovo')\n",
    "        clf_tmp.fit(X_np_train, Y_np_train.values.ravel())\n",
    "        grade = clf_tmp.score(X_np_test, Y_np_test)\n",
    "        grades.append(grade)\n",
    "    return grades\n",
    "\n",
    "def getPOLYGrade(c:float, degree:int, gamma:int, X_np_train, Y_np_train, X_np_test, Y_np_test):\n",
    "    grades = []\n",
    "    for one in c:\n",
    "        clf_tmp = svm.SVC(C=one, kernel='poly', degree=degree, gamma=gamma, decision_function_shape='ovo')\n",
    "        clf_tmp.fit(X_np_train, Y_np_train.values.ravel())\n",
    "        grade = clf_tmp.score(X_np_test, Y_np_test)\n",
    "        grades.append(grade)\n",
    "    return grades"
   ]
  },
  {
   "cell_type": "code",
   "execution_count": 25,
   "metadata": {},
   "outputs": [],
   "source": [
    "def getRBFGrade2(c:float, gamma:list, X_np_train, Y_np_train, X_np_test, Y_np_test):\n",
    "    grades = []\n",
    "    for one in gamma:\n",
    "        clf_tmp = svm.SVC(C=c, kernel='rbf', gamma=one, decision_function_shape='ovo')\n",
    "        clf_tmp.fit(X_np_train, Y_np_train.values.ravel())\n",
    "        grade = clf_tmp.score(X_np_test, Y_np_test)\n",
    "        grades.append(grade)\n",
    "    return grades\n",
    "\n",
    "def getPOLYGrade2(c:float, degree:int, gamma:int, X_np_train, Y_np_train, X_np_test, Y_np_test):\n",
    "    grades = []\n",
    "    for one in gamma:\n",
    "        clf_tmp = svm.SVC(C=c, kernel='poly', degree=degree, gamma=one, decision_function_shape='ovo')\n",
    "        clf_tmp.fit(X_np_train, Y_np_train.values.ravel())\n",
    "        grade = clf_tmp.score(X_np_test, Y_np_test)\n",
    "        grades.append(grade)\n",
    "    return grades"
   ]
  },
  {
   "cell_type": "markdown",
   "metadata": {},
   "source": [
    "#### 测试精度随着c变化趋势【高斯核】"
   ]
  },
  {
   "cell_type": "code",
   "execution_count": 26,
   "metadata": {},
   "outputs": [
    {
     "data": {
      "image/png": "[encoded data removed]",
      "text/plain": [
       "<Figure size 432x288 with 1 Axes>"
      ]
     },
     "metadata": {
      "needs_background": "light"
     },
     "output_type": "display_data"
    }
   ],
   "source": [
    "list_c = np.arange(0.1, 1, 0.1)\n",
    "grade = getRBFGrade(list_c, 120, X_np_train, Y_np_train, X_np_test, Y_np_test)\n",
    "plt.scatter(list_c, grade, color=\"red\")\n",
    "plt.show()"
   ]
  },
  {
   "cell_type": "markdown",
   "metadata": {},
   "source": [
    " "
   ]
  },
  {
   "cell_type": "markdown",
   "metadata": {},
   "source": [
    "#### 测试精度随着gamma的变化【高斯核】"
   ]
  },
  {
   "cell_type": "code",
   "execution_count": 27,
   "metadata": {},
   "outputs": [
    {
     "data": {
      "image/png": "[encoded data removed]",
      "text/plain": [
       "<Figure size 432x288 with 1 Axes>"
      ]
     },
     "metadata": {
      "needs_background": "light"
     },
     "output_type": "display_data"
    }
   ],
   "source": [
    "list_c = np.arange(10, 200, 10)\n",
    "grade = getRBFGrade2(0.8, list_c, X_np_train, Y_np_train, X_np_test, Y_np_test)\n",
    "plt.scatter(list_c, grade, color=\"blue\")\n",
    "plt.show()"
   ]
  },
  {
   "cell_type": "code",
   "execution_count": 28,
   "metadata": {},
   "outputs": [
    {
     "data": {
      "image/png": "[encoded data removed]",
      "text/plain": [
       "<Figure size 432x288 with 1 Axes>"
      ]
     },
     "metadata": {
      "needs_background": "light"
     },
     "output_type": "display_data"
    }
   ],
   "source": [
    "list_c = np.arange(10, 200, 10)\n",
    "grade = getRBFGrade2(0.5, list_c, X_np_train, Y_np_train, X_np_test, Y_np_test)\n",
    "plt.scatter(list_c, grade, color=\"blue\")\n",
    "plt.show()"
   ]
  },
  {
   "cell_type": "markdown",
   "metadata": {},
   "source": []
  },
  {
   "cell_type": "markdown",
   "metadata": {},
   "source": [
    "#### 测试精度随着c的变化【多项式核】"
   ]
  },
  {
   "cell_type": "code",
   "execution_count": 29,
   "metadata": {},
   "outputs": [
    {
     "data": {
      "image/png": "[encoded data removed]",
      "text/plain": [
       "<Figure size 432x288 with 1 Axes>"
      ]
     },
     "metadata": {
      "needs_background": "light"
     },
     "output_type": "display_data"
    }
   ],
   "source": [
    "list_c = np.arange(0.1, 1, 0.1)\n",
    "grade = getPOLYGrade(list_c, 1, 120, X_np_train, Y_np_train, X_np_test, Y_np_test)\n",
    "plt.scatter(list_c, grade, color=\"red\")\n",
    "plt.show()"
   ]
  },
  {
   "cell_type": "markdown",
   "metadata": {},
   "source": [
    "#### 测试精度随着gamma的变化【多项式核】"
   ]
  },
  {
   "cell_type": "code",
   "execution_count": 30,
   "metadata": {},
   "outputs": [
    {
     "data": {
      "image/png": "[encoded data removed]",
      "text/plain": [
       "<Figure size 432x288 with 1 Axes>"
      ]
     },
     "metadata": {
      "needs_background": "light"
     },
     "output_type": "display_data"
    }
   ],
   "source": [
    "list_c = np.arange(10, 200, 10)\n",
    "grade = getPOLYGrade2(0.3, 1, list_c, X_np_train, Y_np_train, X_np_test, Y_np_test)\n",
    "plt.scatter(list_c, grade, color=\"blue\")\n",
    "plt.show()"
   ]
  },
  {
   "cell_type": "markdown",
   "metadata": {},
   "source": []
  }
 ],
 "metadata": {
  "kernelspec": {
   "display_name": "Python 3",
   "language": "python",
   "name": "python3"
  },
  "language_info": {
   "codemirror_mode": {
    "name": "ipython",
    "version": 3
   },
   "file_extension": ".py",
   "mimetype": "text/x-python",
   "name": "python",
   "nbconvert_exporter": "python",
   "pygments_lexer": "ipython3",
   "version": "3.7.3"
  }
 },
 "nbformat": 4,
 "nbformat_minor": 2
}
